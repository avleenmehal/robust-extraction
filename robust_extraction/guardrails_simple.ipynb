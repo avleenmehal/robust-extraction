{
 "cells": [
  {
   "cell_type": "markdown",
   "metadata": {
    "id": "XhMGACjI1qMz"
   },
   "source": [
    "# **Simple Guardrails Model**"
   ]
  },
  {
   "cell_type": "code",
   "execution_count": 1,
   "metadata": {
    "colab": {
     "base_uri": "https://localhost:8080/"
    },
    "executionInfo": {
     "elapsed": 5441,
     "status": "ok",
     "timestamp": 1746035442680,
     "user": {
      "displayName": "Paul Liu",
      "userId": "14110138153009344080"
     },
     "user_tz": 240
    },
    "id": "fwzR0bFLc2cw",
    "outputId": "04485c84-69b0-4c9f-cadb-c148f4c9de59"
   },
   "outputs": [],
   "source": [
    "# install this if not already installed\n",
    "\n",
    "#!pip install  openai -U"
   ]
  },
  {
   "cell_type": "markdown",
   "metadata": {
    "id": "IL8I_351dDmK"
   },
   "source": [
    "To get a openai api_key: https://platform.openai.com/api-keys\n"
   ]
  },
  {
   "cell_type": "code",
   "execution_count": 2,
   "metadata": {
    "executionInfo": {
     "elapsed": 4248,
     "status": "ok",
     "timestamp": 1746035469291,
     "user": {
      "displayName": "Paul Liu",
      "userId": "14110138153009344080"
     },
     "user_tz": 240
    },
    "id": "0T34bv-Dc_rT"
   },
   "outputs": [],
   "source": [
    "import os\n",
    "from openai import OpenAI\n",
    "\n",
    "client = OpenAI(\n",
    "  api_key=os.getenv(\"OPENAI_API_KEY\"),\n",
    ")\n"
   ]
  },
  {
   "cell_type": "code",
   "execution_count": 3,
   "metadata": {
    "executionInfo": {
     "elapsed": 4,
     "status": "ok",
     "timestamp": 1746035515554,
     "user": {
      "displayName": "Paul Liu",
      "userId": "14110138153009344080"
     },
     "user_tz": 240
    },
    "id": "-V69N0dxfNd3"
   },
   "outputs": [],
   "source": [
    "import numpy as np\n",
    "\n",
    "# model for phosphorus (P) removal efficiency and effluent P concentration\n",
    "def compute_removal_eff_and_effluent_P(influent_P, chemical_dose, temperature, pH, dissolved_O2, SRT):\n",
    "    removal_eff = np.clip(\n",
    "            0.45*(chemical_dose/20) +\n",
    "            0.15*np.clip((temperature-10)/15,0,1) +\n",
    "            0.15*(1-abs(pH-7)/2) +\n",
    "            0.15*np.clip(dissolved_O2/2,0,1) +\n",
    "            0.10*np.clip(SRT/20,0,1), 0, 0.95)\n",
    "    effluent_P = influent_P * (1 - removal_eff)\n",
    "    return effluent_P, removal_eff"
   ]
  },
  {
   "cell_type": "code",
   "execution_count": 4,
   "metadata": {
    "executionInfo": {
     "elapsed": 3,
     "status": "ok",
     "timestamp": 1746035520692,
     "user": {
      "displayName": "Paul Liu",
      "userId": "14110138153009344080"
     },
     "user_tz": 240
    },
    "id": "oGUHCEO_fskI"
   },
   "outputs": [],
   "source": [
    "# function specifications\n",
    "\n",
    "tools = [\n",
    "    {\n",
    "      \"type\": \"function\",\n",
    "      \"function\": {\n",
    "          \"name\": \"compute_removal_eff_and_effluent_P\",\n",
    "          \"description\": \"Computes the removal efficiency and effluent Phosphorus concentration in a wastewater treatment process\",\n",
    "          \"parameters\": {\n",
    "              \"type\": \"object\",\n",
    "              \"properties\": {\n",
    "                  # commented parameters are unused for now\n",
    "                #   \"influent_flow\": {\n",
    "                #       \"type\": \"number\",\n",
    "                #       \"description\": \"The influent flow rate in cubic meters per second (m³/s)\",\n",
    "                #   },\n",
    "                  \"influent_P\": {\n",
    "                      \"type\": \"number\",\n",
    "                      \"description\": \"The influent Phosphorus concentration in micrograms per liter (µg/L)\",\n",
    "                  },\n",
    "                  \"chemical_dose\": {\n",
    "                      \"type\": \"number\",\n",
    "                      \"description\": \"The chemical dose in milligrams per liter (mg/L)\",\n",
    "                  },\n",
    "                  \"temperature\": {\n",
    "                      \"type\": \"number\",\n",
    "                      \"description\": \"The temperature of the influent in degrees Celsius (°C)\",\n",
    "                  },\n",
    "                  \"pH\": {\n",
    "                      \"type\": \"number\",\n",
    "                      \"description\": \"The pH level of the influent, representing its acidity or alkalinity\",\n",
    "                  },\n",
    "                  \"dissolved_O2\": {\n",
    "                      \"type\": \"number\",\n",
    "                      \"description\": \"The concentration of dissolved oxygen, measured in milligrams per liter (mg/L)\",\n",
    "                  },\n",
    "                  \"SRT\": {\n",
    "                      \"type\": \"number\",\n",
    "                      \"description\": \"The solids retention time (SRT) in days (d)\",\n",
    "                  },\n",
    "                #   \"HRT\": {\n",
    "                #       \"type\": \"number\",\n",
    "                #       \"description\": \"The hydraulic retention time (HRT) in hours (h)\",\n",
    "                #  },\n",
    "              },\n",
    "              #\"required\": [\"influent_flow\", \"influent_P\", \"chemical_dose\", \"temperature\", \"pH\", \"dissolved_O2\", \"SRT\", \"HRT\"],\n",
    "              \"required\": [\"influent_P\", \"chemical_dose\", \"temperature\", \"pH\", \"dissolved_O2\", \"SRT\"],\n",
    "          },\n",
    "      },\n",
    "    },\n",
    "]"
   ]
  },
  {
   "cell_type": "code",
   "execution_count": 5,
   "metadata": {},
   "outputs": [
    {
     "data": {
      "text/plain": [
       "\"# Statistical Analysis of Wastewater Treatment Efficiency\\n\\n## Abstract\\n\\nThis study presents a comprehensive statistical analysis of data collected from 500 trials in a wastewater treatment process, focusing on the removal efficiency of phosphorus (P). Key parameters analyzed include\\ninfluent flow rate, influent phosphorus concentration, chemical dose, temperature, pH, dissolved oxygen, solids retention time (SRT), hydraulic retention time (HRT), removal efficiency, and effluent phosphorus concentration. The mean influent flow\\nwas observed at 4793.05 m3/d, with an influent phosphorus concentration of 8.51 mg/L. The chemical dosing averaged at 17.76 mg/L, and the process operated at an average temperature of 18.97°C,\\nwith a pH of 6.99. The dissolved oxygen level was maintained at 2.01 mg/L on average. The system's SRT and HRT were 14.1 days and 7.96 hours, respectively. Notably, the\\naverage phosphorus removal efficiency was 83%, resulting in an effluent phosphorus concentration of 1.44 mg/L. The study underscores the effectiveness of the treatment process in reducing phosphorus levels, with implications\\nfor improving wastewater treatment strategies. Variations in the dataset highlight the influence of operational parameters on treatment efficiency, providing valuable insights for optimizing wastewater management practices.\\n\\n**Phosphorus Removal: Strategies, Efficiency, and Implications**\\n\\n**Introduction**\\n\\nPhosphorus, a vital nutrient for aquatic life, can become a detrimental pollutant when present in excess in water bodies. Eutrophication, the process driven by the overabundance of nutrients such as\\nphosphorus, leads to significant ecological imbalances, including harmful algal blooms, hypoxia, and the loss of biodiversity. The primary sources of phosphorus pollution include agricultural runoff, wastewater discharge, and industrial effluents.\\nGiven the adverse environmental impacts and the regulatory requirements to protect water quality, the removal of phosphorus from water and wastewater has become a critical area of environmental engineering and\\nscience. This paper reviews the methods employed for phosphorus removal, evaluates their efficiency based on recent experimental findings, and discusses the implications of these methods for environmental management and policy.\\n\\n**Methods**\\n\\nThe study of phosphorus removal techniques encompasses a range of physical, chemical, and biological methods, each with distinct mechanisms and applications. This section outlines the methodologies employed in assessing the\\neffectiveness and applicability of these techniques.\\n\\n1. **Physical Methods**: Physical methods, including sedimentation and filtration, were evaluated for their capacity to remove particulate phosphorus. The efficiency of these methods was assessed based on their removal rates\\nin various settings, including stormwater treatment and industrial wastewater processing.\\n\\n2. **Chemical Methods**: Chemical phosphorus removal involves the addition of chemical agents to precipitate phosphorus, making it easier to remove. The study focused on the use of alum, ferric chloride,\\nand lime for phosphorus precipitation. Batch experiments were conducted to determine the optimal dosages required for maximum phosphorus removal efficiency in synthetic wastewater samples.\\n\\n3. **Biological Methods**: Biological removal techniques leverage the metabolism of specific microorganisms that can uptake phosphorus in excess of their immediate needs. The assessment of biological methods involved the analysis\\nof enhanced biological phosphorus removal (EBPR) processes in activated sludge systems. The performance of these systems was evaluated in terms of phosphorus uptake rates and the stability of the biological\\nprocess under varying operational conditions.\\n\\n4. **Innovative and Combined Methods**: Recent advancements in phosphorus removal technologies, including membrane filtration, ion exchange, and constructed wetlands, were also reviewed. The effectiveness of these methods was analyzed through\\ncase studies and pilot projects, focusing on their removal efficiencies, cost implications, and potential environmental impacts.\\n\\n**Results**\\n\\nThe evaluation of phosphorus removal methods yielded the following findings:\\n\\n1. **Physical Methods**: Sedimentation and filtration showed variable efficiency in particulate phosphorus removal, largely dependent on the particle size and the specific system design. Filtration through advanced media, such as\\nactivated carbon and sand filters, achieved higher removal rates, up to 90% under optimal conditions.\\n\\n2. **Chemical Methods**: Chemical precipitation demonstrated high efficiency in phosphorus removal, with alum and ferric chloride achieving removal rates of up to 95% at optimal dosages. However, the formation of\\nchemical sludge and the potential for secondary pollution emerged as significant concerns.\\n\\n3. **Biological Methods**: EBPR processes were effective in removing soluble phosphorus, with removal efficiencies exceeding 90% in well-managed systems. The performance of these systems was highly dependent on operational parameters,\\nsuch as the carbon source and the sludge retention time.\\n\\n4. **Innovative and Combined Methods**: Membrane filtration and ion exchange technologies showed promising results, with removal efficiencies often exceeding 95%. Constructed wetlands, while less efficient in direct comparisons, offered a\\ncost-effective and environmentally friendly alternative, with efficiencies ranging from 60% to 80%.\\n\\n**Discussion**\\n\\nThe study highlights the diversity and complexity of phosphorus removal technologies. While chemical methods offer high removal efficiencies, their environmental and economic costs necessitate careful consideration. Physical methods, although less\\neffective for soluble phosphorus, are crucial for the removal of particulate forms. Biological methods, particularly EBPR, present a sustainable option for phosphorus removal, though their effectiveness is highly dependent on\\noperational control and system design.\\n\\nInnovative and combined methods, including membrane technologies and constructed wetlands, offer promising avenues for efficient and sustainable phosphorus removal. These technologies, however, require further research and development to optimize their\\nperformance and reduce costs.\\n\\nThe implications of these findings for environmental management are significant. Effective phosphorus removal is essential for preventing eutrophication and protecting aquatic ecosystems. The choice of phosphorus removal method should be\\nbased on a comprehensive assessment of the specific water body characteristics, pollution sources, regulatory requirements, and economic considerations. Furthermore, the development of integrated approaches, combining the strengths of different removal\\nmethods, may offer the most effective and sustainable solutions for phosphorus pollution control.\\n\\nIn conclusion, phosphorus removal from water and wastewater is a critical environmental challenge that requires a multifaceted approach. The effectiveness of various removal methods varies widely, with each presenting unique\\nadvantages and limitations. Continued research and innovation, along with informed policy and management decisions, are essential to address the phosphorus pollution problem and protect water quality and aquatic ecosystems.\\n\""
      ]
     },
     "execution_count": 5,
     "metadata": {},
     "output_type": "execute_result"
    }
   ],
   "source": [
    "with open(\"phosphorus_run/set01_paper.md\", \"r\") as file:\n",
    "    paper = file.read()\n",
    "\n",
    "paper"
   ]
  },
  {
   "cell_type": "code",
   "execution_count": 6,
   "metadata": {
    "colab": {
     "base_uri": "https://localhost:8080/"
    },
    "executionInfo": {
     "elapsed": 622,
     "status": "ok",
     "timestamp": 1746035571049,
     "user": {
      "displayName": "Paul Liu",
      "userId": "14110138153009344080"
     },
     "user_tz": 240
    },
    "id": "q1My17jsgP-p",
    "outputId": "0fad32d6-6eb6-4591-d4d9-ead2f715f9bc"
   },
   "outputs": [
    {
     "data": {
      "text/plain": [
       "ChatCompletionMessage(content='I will extract the parameters needed to compute the removal efficiency and effluent Phosphorus concentration from the provided paper. The parameters are influent P, chemical dose, temperature, pH, dissolved O2, and SRT.\\n\\nFrom the paper, the extracted values are:\\n- Influent Phosphorus Concentration: 8.51 mg/L\\n- Chemical Dose: 17.76 mg/L\\n- Temperature: 18.97°C\\n- pH: 6.99\\n- Dissolved Oxygen: 2.01 mg/L\\n- Solids Retention Time (SRT): 14.1 days\\n\\nNow, I will use these extracted parameters to compute the removal efficiency and effluent Phosphorus concentration in a wastewater treatment process.', refusal=None, role='assistant', annotations=[], audio=None, function_call=None, tool_calls=[ChatCompletionMessageToolCall(id='call_tZruGj5yROnxWatXcv7HNpCe', function=Function(arguments='{\"influent_P\":8.51,\"chemical_dose\":17.76,\"temperature\":18.97,\"pH\":6.99,\"dissolved_O2\":2.01,\"SRT\":14.1}', name='compute_removal_eff_and_effluent_P'), type='function')])"
      ]
     },
     "execution_count": 6,
     "metadata": {},
     "output_type": "execute_result"
    }
   ],
   "source": [
    "# prompt to extract inputs and model parameters from the paper\n",
    "prompt_x_theta = \"\"\"Given the following paper, please extract the parameters needed to compute the removal efficiency \n",
    "        and effluent Phosphorus concentration in a wastewater treatment process. The parameters \n",
    "        are: influent P, chemical dose, temperature, pH, dissolved O2 and SRT. \n",
    "        The paper is as follows:\\n\\n\"\"\" + paper\n",
    "openai_response_x_theta = client.chat.completions.create(\n",
    "    model = 'gpt-3.5-turbo',\n",
    "    messages = [{'role': 'user', 'content': prompt_x_theta}],\n",
    "    #add our function specs to the model\n",
    "    tools=tools\n",
    ")\n",
    "\n",
    "response_x=openai_response_x_theta.choices[0].message\n",
    "response_x"
   ]
  },
  {
   "cell_type": "code",
   "execution_count": 7,
   "metadata": {
    "colab": {
     "base_uri": "https://localhost:8080/"
    },
    "executionInfo": {
     "elapsed": 10,
     "status": "ok",
     "timestamp": 1746035584398,
     "user": {
      "displayName": "Paul Liu",
      "userId": "14110138153009344080"
     },
     "user_tz": 240
    },
    "id": "HpaZIbuagh0T",
    "outputId": "1226938c-b057-4578-d107-f4cad4d75422"
   },
   "outputs": [
    {
     "data": {
      "text/plain": [
       "Function(arguments='{\"influent_P\":8.51,\"chemical_dose\":17.76,\"temperature\":18.97,\"pH\":6.99,\"dissolved_O2\":2.01,\"SRT\":14.1}', name='compute_removal_eff_and_effluent_P')"
      ]
     },
     "execution_count": 7,
     "metadata": {},
     "output_type": "execute_result"
    }
   ],
   "source": [
    "openai_response_x_theta.choices[0].message.tool_calls[0].function"
   ]
  },
  {
   "cell_type": "code",
   "execution_count": 8,
   "metadata": {
    "colab": {
     "base_uri": "https://localhost:8080/"
    },
    "executionInfo": {
     "elapsed": 4,
     "status": "ok",
     "timestamp": 1746035589551,
     "user": {
      "displayName": "Paul Liu",
      "userId": "14110138153009344080"
     },
     "user_tz": 240
    },
    "id": "jD7REshThh6k",
    "outputId": "d9484838-a75a-4fa3-8965-8ec232b5b749"
   },
   "outputs": [
    {
     "data": {
      "text/plain": [
       "{'influent_P': 8.51,\n",
       " 'chemical_dose': 17.76,\n",
       " 'temperature': 18.97,\n",
       " 'pH': 6.99,\n",
       " 'dissolved_O2': 2.01,\n",
       " 'SRT': 14.1}"
      ]
     },
     "execution_count": 8,
     "metadata": {},
     "output_type": "execute_result"
    }
   ],
   "source": [
    "import json\n",
    "\n",
    "fun_response_x_theta = json.loads(openai_response_x_theta.choices[0].message.tool_calls[0].function.arguments)\n",
    "fun_response_x_theta"
   ]
  },
  {
   "cell_type": "code",
   "execution_count": 9,
   "metadata": {
    "colab": {
     "base_uri": "https://localhost:8080/"
    },
    "executionInfo": {
     "elapsed": 48,
     "status": "ok",
     "timestamp": 1746035593368,
     "user": {
      "displayName": "Paul Liu",
      "userId": "14110138153009344080"
     },
     "user_tz": 240
    },
    "id": "N4AcDJZrjxow",
    "outputId": "19a58382-2250-4a5b-c19b-c825b6d26517"
   },
   "outputs": [
    {
     "data": {
      "text/plain": [
       "(1.1994844999999992, 0.8590500000000001)"
      ]
     },
     "execution_count": 9,
     "metadata": {},
     "output_type": "execute_result"
    }
   ],
   "source": [
    "influent_P = fun_response_x_theta['influent_P']\n",
    "chemical_dose = fun_response_x_theta['chemical_dose']\n",
    "temperature = fun_response_x_theta['temperature']\n",
    "pH = fun_response_x_theta['pH']\n",
    "dissolved_O2 = fun_response_x_theta['dissolved_O2']\n",
    "SRT = fun_response_x_theta['SRT']\n",
    "\n",
    "effluent_P_pred, removal_eff_pred = compute_removal_eff_and_effluent_P(influent_P, chemical_dose, temperature, pH, dissolved_O2, SRT)\n",
    "effluent_P_pred, removal_eff_pred"
   ]
  },
  {
   "cell_type": "code",
   "execution_count": 10,
   "metadata": {},
   "outputs": [],
   "source": [
    "tools_y = [ {\n",
    "      \"type\": \"function\",\n",
    "      \"function\": {\n",
    "          \"name\": \"get_true_removal_eff_and_effluent_P\",\n",
    "          \"description\": \"Extracts true values of removal efficiency and effluent Phosphorus concentration from the paper\",\n",
    "          \"parameters\": {\n",
    "              \"type\": \"object\",\n",
    "              \"properties\": {\n",
    "                \"removal_eff\": {\n",
    "                    \"type\": \"number\",\n",
    "                    \"description\": \"The removal efficiency of Phosphorus in the wastewater treatment process, expressed as a decimal fraction (0 to 1)\",\n",
    "                },\n",
    "                \"effluent_P\": {\n",
    "                    \"type\": \"number\",\n",
    "                    \"description\": \"The effluent Phosphorus concentration in milligrams per liter (mg/L)\",\n",
    "                },\n",
    "              },\n",
    "              \"required\": [\"removal_eff\", \"effluent_P\"],\n",
    "          },\n",
    "      },\n",
    "    },\n",
    "]"
   ]
  },
  {
   "cell_type": "code",
   "execution_count": 11,
   "metadata": {},
   "outputs": [
    {
     "data": {
      "text/plain": [
       "ChatCompletionMessage(content=None, refusal=None, role='assistant', annotations=[], audio=None, function_call=None, tool_calls=[ChatCompletionMessageToolCall(id='call_y50yvI2epgLFi18K4CChlFdu', function=Function(arguments='{\"removal_eff\":0.83,\"effluent_P\":1.44}', name='get_true_removal_eff_and_effluent_P'), type='function')])"
      ]
     },
     "execution_count": 11,
     "metadata": {},
     "output_type": "execute_result"
    }
   ],
   "source": [
    "prompt_y = \"\"\"Given the following paper, extract the removal \n",
    "        efficiency and effluent Phosphorus concentration in mg/L.\"\"\" + paper\n",
    "\n",
    "openai_response_y = client.chat.completions.create(\n",
    "    model = 'gpt-3.5-turbo',\n",
    "    messages = [{'role': 'user', 'content': prompt_y}],\n",
    "    #add our function specs to the model\n",
    "    tools=tools_y\n",
    ")\n",
    "\n",
    "response=openai_response_y.choices[0].message\n",
    "response"
   ]
  },
  {
   "cell_type": "code",
   "execution_count": 12,
   "metadata": {},
   "outputs": [
    {
     "data": {
      "text/plain": [
       "Function(arguments='{\"removal_eff\":0.83,\"effluent_P\":1.44}', name='get_true_removal_eff_and_effluent_P')"
      ]
     },
     "execution_count": 12,
     "metadata": {},
     "output_type": "execute_result"
    }
   ],
   "source": [
    "openai_response_y.choices[0].message.tool_calls[0].function"
   ]
  },
  {
   "cell_type": "code",
   "execution_count": 13,
   "metadata": {},
   "outputs": [
    {
     "data": {
      "text/plain": [
       "{'removal_eff': 0.83, 'effluent_P': 1.44}"
      ]
     },
     "execution_count": 13,
     "metadata": {},
     "output_type": "execute_result"
    }
   ],
   "source": [
    "fun_response=json.loads(openai_response_y.choices[0].message.tool_calls[0].function.arguments)\n",
    "fun_response"
   ]
  },
  {
   "cell_type": "code",
   "execution_count": 14,
   "metadata": {},
   "outputs": [
    {
     "data": {
      "text/plain": [
       "(0.83, 1.44)"
      ]
     },
     "execution_count": 14,
     "metadata": {},
     "output_type": "execute_result"
    }
   ],
   "source": [
    "removal_eff_true = fun_response['removal_eff']\n",
    "effluent_P_true = fun_response['effluent_P']\n",
    "removal_eff_true, effluent_P_true"
   ]
  },
  {
   "cell_type": "code",
   "execution_count": 15,
   "metadata": {},
   "outputs": [
    {
     "data": {
      "text/plain": [
       "0.24051550000000077"
      ]
     },
     "execution_count": 15,
     "metadata": {},
     "output_type": "execute_result"
    }
   ],
   "source": [
    "def compute_error_effluent_P(effluent_P_true, effluent_P_pred):\n",
    "    \"\"\"\n",
    "    Computes the error in effluent Phosphorus concentration.\n",
    "    \n",
    "    Parameters:\n",
    "    - effluent_P_true: The true effluent Phosphorus concentration in mg/L.\n",
    "    - effluent_P_pred: The effluent Phosphorus concentration in mg/L predicted by simulation.\n",
    "    \n",
    "    Returns:\n",
    "    - error: The absolute error in effluent Phosphorus concentration.\n",
    "    \"\"\"\n",
    "    return abs(effluent_P_true - effluent_P_pred)\n",
    "\n",
    "compute_error_effluent_P(effluent_P_true, effluent_P_pred)"
   ]
  }
 ],
 "metadata": {
  "colab": {
   "provenance": [
    {
     "file_id": "1ZNoAHEBsfFAlvKcjH9xRQf5hCGn040-p",
     "timestamp": 1713113094367
    }
   ]
  },
  "kernelspec": {
   "display_name": "steps-openai",
   "language": "python",
   "name": "python3"
  },
  "language_info": {
   "codemirror_mode": {
    "name": "ipython",
    "version": 3
   },
   "file_extension": ".py",
   "mimetype": "text/x-python",
   "name": "python",
   "nbconvert_exporter": "python",
   "pygments_lexer": "ipython3",
   "version": "3.11.3"
  }
 },
 "nbformat": 4,
 "nbformat_minor": 0
}
